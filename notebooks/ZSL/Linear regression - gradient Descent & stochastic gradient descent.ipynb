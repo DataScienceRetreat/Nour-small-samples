{
 "cells": [
  {
   "cell_type": "code",
   "execution_count": 1,
   "metadata": {
    "collapsed": true
   },
   "outputs": [],
   "source": [
    "import numpy as np\n",
    "from matplotlib import pyplot as plt"
   ]
  },
  {
   "cell_type": "code",
   "execution_count": null,
   "metadata": {
    "collapsed": true
   },
   "outputs": [],
   "source": [
    "def generateSample(N):\n",
    "    \n",
    "    # add your implementation\n",
    "    \n",
    "    # generate X with shape (N,1) \n",
    "    # append ones to each x in X, then X will be of shape (N,2) \n",
    "    # generate Y with shape (N,1)\n",
    "    \n",
    "    return X, Y"
   ]
  },
  {
   "cell_type": "code",
   "execution_count": null,
   "metadata": {
    "collapsed": true
   },
   "outputs": [],
   "source": [
    "def fitModel_gradient(X, Y):\n",
    "    \n",
    "    # add your implementation\n",
    "    \n",
    "    # initialize weights W with shape (2,1) \n",
    "    # foreach epoch\n",
    "    # 1. Calculate predictions P = X * W\n",
    "    # 2. Calculate error = (P - Y)^2\n",
    "    # 3. Calculate gradient = X.T * (X * W - Y) / N\n",
    "    # 4. Update weights  W = W - lr * gradient\n",
    "\n",
    "    return W\n",
    "    \n",
    "def fitModel_stochastic_gradient(X, Y):\n",
    "\n",
    "    # add your implementation\n",
    "    \n",
    "    # initialize weights W with shape (2,1)\n",
    "    # foreach epoch\n",
    "    # Shuffle training samples (careful to shuffle X and Y in the same order!)\n",
    "    # foreach sample xi,yi\n",
    "    # 1. Calculate sample prediction pi = W0+W1 xi\n",
    "    # 2. Calculate error = (pi - yi)^2\n",
    "    # 3. Calculate gradient = x[i].T * (x[i] * w - y[i]) \n",
    "    # 4. Update weights  W = W - lr * gradient\n",
    "\n",
    "    return w"
   ]
  },
  {
   "cell_type": "code",
   "execution_count": null,
   "metadata": {
    "collapsed": true
   },
   "outputs": [],
   "source": [
    "def plotModel(x, y, w):\n",
    "    plt.plot(x[:,1], y, \"x\")\n",
    "    plt.plot(x[:,1], x * w, \"r-\")\n",
    "    plt.show()"
   ]
  },
  {
   "cell_type": "code",
   "execution_count": null,
   "metadata": {
    "collapsed": true
   },
   "outputs": [],
   "source": [
    "X, Y = generateSample(N)\n",
    "w_gd = fitModel_gradient(X, Y)\n",
    "w_sgd = fitModel_stochastic_gradient(X, Y)\n",
    "plotModel(X,Y,w_gd)\n",
    "plotModel(X,Y,w_sgd)"
   ]
  }
 ],
 "metadata": {
  "kernelspec": {
   "display_name": "Python 3",
   "language": "python",
   "name": "python3"
  },
  "language_info": {
   "codemirror_mode": {
    "name": "ipython",
    "version": 3
   },
   "file_extension": ".py",
   "mimetype": "text/x-python",
   "name": "python",
   "nbconvert_exporter": "python",
   "pygments_lexer": "ipython3",
   "version": "3.6.4"
  }
 },
 "nbformat": 4,
 "nbformat_minor": 2
}
