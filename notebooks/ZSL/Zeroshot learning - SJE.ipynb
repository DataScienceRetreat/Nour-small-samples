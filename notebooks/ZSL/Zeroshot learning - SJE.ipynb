{
 "cells": [
  {
   "cell_type": "markdown",
   "metadata": {},
   "source": [
    "# Zero-shot learning for image classification "
   ]
  },
  {
   "cell_type": "markdown",
   "metadata": {},
   "source": [
    "original data and code can be found here https://www.mpi-inf.mpg.de/departments/computer-vision-and-multimodal-computing/research/zero-shot-learning/zero-shot-learning-the-good-the-bad-and-the-ugly/)\n",
    "[Akata, et al. CVPR2015]\n",
    "[Xian, et al. CVPR2017]"
   ]
  },
  {
   "cell_type": "markdown",
   "metadata": {},
   "source": [
    "Download prepared data of Animal with attributes from: \n",
    "https://drive.google.com/open?id=1HqTPyO-kFBNXkPmXlNp2yQdl-Pbr2pnb"
   ]
  },
  {
   "cell_type": "code",
   "execution_count": 1,
   "metadata": {
    "collapsed": true
   },
   "outputs": [],
   "source": [
    "import numpy as np "
   ]
  },
  {
   "cell_type": "code",
   "execution_count": 3,
   "metadata": {
    "collapsed": true
   },
   "outputs": [],
   "source": [
    "# load prepared data \n",
    "your_path_to_data_dict= '' # PATH TO DATA\n",
    "data_dict = np.load(your_path_to_data_dict,encoding = 'latin1')['data'].item()\n",
    "\n",
    "tr_theta_x = data_dict['tr_theta_x'] # training image features extracted from deep CNN\n",
    "tr_labels = data_dict['tr_labels'] # training image labels as indices matching class embeddings and names\n",
    "val_theta_x = data_dict['val_theta_x']# validation image features extracted from deep CNN\n",
    "val_labels = data_dict['val_labels'] # validation image labels as indices matching class embeddings and names\n",
    "test_theta_x = data_dict['test_theta_x'] # test image features extracted from deep CNN\n",
    "test_labels = data_dict['test_labels'] # test image labels as indices matching class embeddings and names\n",
    "\n",
    "class_embeddings = data_dict['phi_y'] # class attributes vectors provided by the original dataset AWA\n",
    "\n",
    "class_names = data_dict['class_name'] # class names in the same order as embeddings "
   ]
  },
  {
   "cell_type": "code",
   "execution_count": 6,
   "metadata": {
    "scrolled": true
   },
   "outputs": [
    {
     "data": {
      "text/plain": [
       "50"
      ]
     },
     "execution_count": 6,
     "metadata": {},
     "output_type": "execute_result"
    }
   ],
   "source": [
    "# print training, validation, and test class names\n",
    "# note that class_embeddings and class_names \n",
    "len(class_names)\n",
    "# add your implementation   "
   ]
  },
  {
   "cell_type": "code",
   "execution_count": 13,
   "metadata": {},
   "outputs": [
    {
     "data": {
      "text/plain": [
       "array([u'antelope', u'grizzly+bear', u'killer+whale', u'persian+cat',\n",
       "       u'german+shepherd', u'siamese+cat', u'skunk', u'tiger',\n",
       "       u'hippopotamus', u'spider+monkey', u'humpback+whale', u'elephant',\n",
       "       u'fox', u'squirrel', u'rhinoceros', u'wolf', u'chihuahua',\n",
       "       u'weasel', u'otter', u'buffalo', u'zebra', u'pig', u'lion',\n",
       "       u'mouse', u'polar+bear', u'collie', u'cow'], dtype='<U15')"
      ]
     },
     "execution_count": 13,
     "metadata": {},
     "output_type": "execute_result"
    }
   ],
   "source": [
    "train_classes = list(set(tr_labels))\n",
    "print('Animals of training set',np.array(class_names)[list(set(tr_labels))])"
   ]
  },
  {
   "cell_type": "code",
   "execution_count": 17,
   "metadata": {},
   "outputs": [
    {
     "data": {
      "text/plain": [
       "array([u'beaver', u'dalmatian', u'giant+panda', u'deer', u'mole',\n",
       "       u'leopard', u'moose', u'gorilla', u'ox', u'chimpanzee', u'hamster',\n",
       "       u'raccoon', u'rabbit'], dtype='<U15')"
      ]
     },
     "execution_count": 17,
     "metadata": {},
     "output_type": "execute_result"
    }
   ],
   "source": [
    "val_classes = list(set(val_labels))\n",
    "print('Animals of val set',np.array(class_names)[list(set(val_labels))])"
   ]
  },
  {
   "cell_type": "code",
   "execution_count": 15,
   "metadata": {},
   "outputs": [
    {
     "data": {
      "text/plain": [
       "array([u'rat', u'horse', u'dolphin', u'blue+whale', u'walrus', u'bobcat',\n",
       "       u'sheep', u'seal', u'bat', u'giraffe'], dtype='<U15')"
      ]
     },
     "execution_count": 15,
     "metadata": {},
     "output_type": "execute_result"
    }
   ],
   "source": [
    "test_classes = list(set(test_labels))\n",
    "print('Animals of test set',np.array(class_names)[list(set(test_labels))])"
   ]
  },
  {
   "cell_type": "code",
   "execution_count": 18,
   "metadata": {},
   "outputs": [
    {
     "data": {
      "text/plain": [
       "(20218, 2048)"
      ]
     },
     "execution_count": 18,
     "metadata": {},
     "output_type": "execute_result"
    }
   ],
   "source": [
    "tr_theta_x.shape"
   ]
  },
  {
   "cell_type": "code",
   "execution_count": null,
   "metadata": {
    "collapsed": true
   },
   "outputs": [],
   "source": [
    "def train(X,Y,LR,Epochs,W=None):\n",
    "    \n",
    "    # add your implementation\n",
    "    \n",
    "    ####### use SGD to minimize SJE loss ######### \n",
    "    # Initialize W (DxE)\n",
    "    # foreach epoch \n",
    "        # Shuffle training samples\n",
    "        # foreach sample (xi, yi)\n",
    "            # 1. scoretrue =  𝛳(xi) * WT * class_embedding(yi)\n",
    "            ### find the class that causes the maximum loss ### \n",
    "            # 2. lossmax= -1,  ymax = -1\n",
    "            # foreach class in training_classes  \n",
    "                # 1. score =  𝛳(xi) * WT * class_embedding(class)\n",
    "                # 2. loss = Δ(class,yi) + score - scoretrue\n",
    "                # 3. if loss > lossmax --> update lossmax and ymax\n",
    "            # 4. if ymax ≠ ytrue  \n",
    "                # 1. grad = 𝛳(xi) [class_embedding(ymax) - class_embedding(yi)]\n",
    "                # 2. W = W - lr * \n",
    "    \n",
    "    return W"
   ]
  },
  {
   "cell_type": "code",
   "execution_count": null,
   "metadata": {
    "collapsed": true
   },
   "outputs": [],
   "source": [
    "def predict(x,test_class_indices,W):\n",
    "    \n",
    "    # add your implementation\n",
    "    \n",
    "    #  max_score = -1,  ymax = -1\n",
    "    # foreach class in test_class: \n",
    "        # score =  𝛳(xi) * WT *𝜙(class) \n",
    "        # if score > max_score --> update max_score and ymax\n",
    "        \n",
    "    return ymax"
   ]
  },
  {
   "cell_type": "code",
   "execution_count": null,
   "metadata": {
    "collapsed": true
   },
   "outputs": [],
   "source": [
    "def evaluate(X,Y,test_classes,W):\n",
    "    \n",
    "    # add your implementation\n",
    "    \n",
    "    # correct_pred = 0\n",
    "    # foreach sample (xi, ytrue)\n",
    "        # pred_label = predict(xi,test_classes,W)\n",
    "        # if pred_label == ytrue:\n",
    "            # correct_pred += 1\n",
    "    # acc = correct_pred / size of test set\n",
    "    \n",
    "    return acc"
   ]
  },
  {
   "cell_type": "code",
   "execution_count": null,
   "metadata": {
    "collapsed": true
   },
   "outputs": [],
   "source": []
  }
 ],
 "metadata": {
  "kernelspec": {
   "display_name": "Python 3",
   "language": "python",
   "name": "python3"
  },
  "language_info": {
   "codemirror_mode": {
    "name": "ipython",
    "version": 3
   },
   "file_extension": ".py",
   "mimetype": "text/x-python",
   "name": "python",
   "nbconvert_exporter": "python",
   "pygments_lexer": "ipython3",
   "version": "3.6.4"
  }
 },
 "nbformat": 4,
 "nbformat_minor": 2
}
