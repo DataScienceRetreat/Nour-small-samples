{
 "cells": [
  {
   "cell_type": "markdown",
   "metadata": {},
   "source": [
    "# Zero-shot learning for image classification "
   ]
  },
  {
   "cell_type": "markdown",
   "metadata": {},
   "source": [
    "original data and code can be found here https://www.mpi-inf.mpg.de/departments/computer-vision-and-multimodal-computing/research/zero-shot-learning/zero-shot-learning-the-good-the-bad-and-the-ugly/)\n",
    "[Akata, et al. CVPR2015]\n",
    "[Xian, et al. CVPR2017]"
   ]
  },
  {
   "cell_type": "markdown",
   "metadata": {},
   "source": [
    "Download prepared data of Animal with attributes from: \n",
    "https://drive.google.com/open?id=1ErU12Q2sHhB2Lb7NCQuan0K3qXP78RJj"
   ]
  },
  {
   "cell_type": "code",
   "execution_count": 6,
   "metadata": {},
   "outputs": [],
   "source": [
    "import numpy as np "
   ]
  },
  {
   "cell_type": "code",
   "execution_count": null,
   "metadata": {},
   "outputs": [],
   "source": [
    "# load prepared data \n",
    "data_dict = np.load(your_path_to_data_dict.npz)['data'].item()\n",
    "\n",
    "tr_theta_x = data_dict['tr_theta_x'] # training image features extracted from deep CNN\n",
    "tr_labels = data_dict['tr_labels'] # training image labels as indices matching class embeddings and names\n",
    "val_theta_x = data_dict['val_theta_x']# validation image features extracted from deep CNN\n",
    "val_labels = data_dict['val_labels'] # validation image labels as indices matching class embeddings and names\n",
    "test_theta_x = data_dict['test_theta_x'] # test image features extracted from deep CNN\n",
    "test_labels = data_dict['test_labels'] # test image labels as indices matching class embeddings and names\n",
    "\n",
    "class_embeddings = data_dict['phi_y'] # class attributes vectors provided by the original dataset AWA\n",
    "class_names = data_dict['class_name'] # class names in the same order as embeddings "
   ]
  },
  {
   "cell_type": "code",
   "execution_count": null,
   "metadata": {},
   "outputs": [],
   "source": [
    "# print training, validation, and test class names\n",
    "# note that class_embeddings and class_names \n",
    "\n",
    "# add your implementation   "
   ]
  },
  {
   "cell_type": "code",
   "execution_count": null,
   "metadata": {},
   "outputs": [],
   "source": [
    "def train(X,Y,LR,T,W=None):\n",
    "    \n",
    "    # add your implementation\n",
    "    \n",
    "    ####### use SGD to minimize SJE loss ######### \n",
    "    # Initialize W (DxE)\n",
    "    # foreach epoch \n",
    "        # Shuffle training samples\n",
    "        # foreach sample (xi, ytrue)\n",
    "            # 1. scoretrue =  𝛳(xi) * WT * 𝜙(ytrue)\n",
    "            # 2. lossmax= -1,  ymax = -1\n",
    "            # foreach training label ytr  \n",
    "                # 1. score =  𝛳(xi) * WT *𝜙(ytr)\n",
    "                # 2. loss = Δ(ytr,ytrue) + scoretrue - score\n",
    "                # 3. if loss > lossmax --> update lossmax and ymax\n",
    "            # 4. if ymax ≠ ytrue --> W = W - lr * 𝛳(xi) [𝜙(ytrue) - 𝜙(ymax)]\n",
    "    \n",
    "    return W"
   ]
  },
  {
   "cell_type": "code",
   "execution_count": null,
   "metadata": {},
   "outputs": [],
   "source": [
    "def predict(x,test_class_indices,W):\n",
    "    \n",
    "    # add your implementation\n",
    "    \n",
    "    #  max_score = -1,  ymax = -1\n",
    "    # foreach label in test_class_indices for i in test_class_indices: \n",
    "        # score =  𝛳(xi) * WT *𝜙(label) \n",
    "        # if score > max_score --> update max_score and ymax\n",
    "        \n",
    "    return ymax"
   ]
  },
  {
   "cell_type": "code",
   "execution_count": null,
   "metadata": {},
   "outputs": [],
   "source": [
    "def evaluate(X,Y,test_class_indices,W):\n",
    "    \n",
    "    # add your implementation\n",
    "    \n",
    "    # correct_pred = 0\n",
    "    # foreach sample (xi, ytrue)\n",
    "        # pred_label = predict(xi,test_class_indices,W)\n",
    "        # if pred_label == ytrue:\n",
    "            # correct_pred += 1\n",
    "    # acc = correct_pred / size of test set\n",
    "    \n",
    "    return acc"
   ]
  },
  {
   "cell_type": "code",
   "execution_count": null,
   "metadata": {},
   "outputs": [],
   "source": []
  }
 ],
 "metadata": {
  "kernelspec": {
   "display_name": "Python 2",
   "language": "python",
   "name": "python2"
  },
  "language_info": {
   "codemirror_mode": {
    "name": "ipython",
    "version": 2
   },
   "file_extension": ".py",
   "mimetype": "text/x-python",
   "name": "python",
   "nbconvert_exporter": "python",
   "pygments_lexer": "ipython2",
   "version": "2.7.14"
  }
 },
 "nbformat": 4,
 "nbformat_minor": 2
}
