{
 "cells": [
  {
   "cell_type": "code",
   "execution_count": 1,
   "metadata": {},
   "outputs": [],
   "source": [
    "import numpy as np\n",
    "import datetime\n",
    "import random\n",
    "from collections import Counter\n",
    "import matplotlib.pyplot as plt"
   ]
  },
  {
   "cell_type": "code",
   "execution_count": 2,
   "metadata": {},
   "outputs": [],
   "source": [
    "def l2_norm(x):\n",
    "    return x / (np.linalg.norm(x)+ 10e-6)"
   ]
  },
  {
   "cell_type": "code",
   "execution_count": 3,
   "metadata": {},
   "outputs": [],
   "source": [
    "# load prepared data \n",
    "data_dict = np.load('data_dict.npz')['data'].item()\n",
    "\n",
    "tr_theta_x = data_dict['tr_theta_x'] # training image features extracted from deep CNN\n",
    "tr_labels = data_dict['tr_labels'] # training image labels as indices matching class embeddings and names\n",
    "val_theta_x = data_dict['val_theta_x']# validation image features extracted from deep CNN\n",
    "val_labels = data_dict['val_labels'] # validation image labels as indices matching class embeddings and names\n",
    "test_theta_x = data_dict['test_theta_x'] # test image features extracted from deep CNN\n",
    "test_labels = data_dict['test_labels'] # test image labels as indices matching class embeddings and names\n",
    "\n",
    "class_embeddings = data_dict['phi_y'] # class attributes vectors provided by the original dataset AWA\n",
    "class_names = data_dict['class_name'] # class names in the same order as embeddings "
   ]
  },
  {
   "cell_type": "code",
   "execution_count": null,
   "metadata": {},
   "outputs": [],
   "source": [
    "theta_x_dim, phi_y_dim = len(tr_theta_x[0]), len(class_embeddings[0])"
   ]
  },
  {
   "cell_type": "code",
   "execution_count": null,
   "metadata": {},
   "outputs": [],
   "source": [
    "# class split \n",
    "print \"training classes:\"\n",
    "for idx in set(tr_labels):\n",
    "    print class_names[idx], ',',\n",
    "print \"\\nvalidation classes:\"\n",
    "for idx in set(val_labels):\n",
    "    print class_names[idx], ',',\n",
    "print \"\\ntest classes:\"\n",
    "for idx in set(test_labels):\n",
    "    print class_names[idx], ',',"
   ]
  },
  {
   "cell_type": "code",
   "execution_count": null,
   "metadata": {},
   "outputs": [],
   "source": [
    "def train(X,Y,LR,T,W=None):\n",
    "    \n",
    "    # log file\n",
    "    log_file = open('train_log.txt','a')\n",
    "    \n",
    "    # total number of training samples\n",
    "    N = len(X)\n",
    "    \n",
    "    # initialize the joint embedding matrix W: is x_dim x y_dim where x_dim is input embedding dimension and yEmb_dim is the output embedding dimension\n",
    "    # the initialization value is equal to 1 \n",
    "    if W is None:\n",
    "        W = np.ones((theta_x_dim, phi_y_dim))\n",
    "    \n",
    "    # SGD train the weights with T iteration using LR\n",
    "    Indices= list(range(0,N))\n",
    "    for t in range(0,T):\n",
    "        \n",
    "        ep_start = datetime.datetime.now()\n",
    "        ep_loss = 0\n",
    "        random.shuffle(Indices) # shuffle training data for each epoch\n",
    "        \n",
    "        for index in range(0,N):\n",
    "            n = Indices[index] # pick a random sample n\n",
    "            max_loss = -1 # max loss\n",
    "            max_j = -1 # max_j keeps the index of the max rank\n",
    "\n",
    "            inputP = l2_norm(np.dot(np.transpose(X[n]),W)) # project input on joint embedding space\n",
    "            comp_true = np.dot(inputP,class_embeddings[Y[n]]) \n",
    "            \n",
    "            for j in set(tr_labels): # iterate over tr classes to find the one with the maximum rank\n",
    "                delta = 0 if Y[n] == j else 1 # 0-1 loss\n",
    "                comp = np.dot(inputP,class_embeddings[j]) # compatability between input projection and class_embeddings[j]\n",
    "                loss = delta + comp - comp_true\n",
    "                if loss > max_loss:\n",
    "                    max_loss = loss\n",
    "                    max_j = j\n",
    "            \n",
    "            ep_loss += max_loss\n",
    "            \n",
    "            # update weights if violation\n",
    "            if not (max_j == Y[n]):\n",
    "                tranX = np.array(X[n])[np.newaxis]\n",
    "                W = W - LR * (np.dot(tranX.T ,np.array(class_embeddings[max_j])[np.newaxis] - np.array(class_embeddings[Y[n]])[np.newaxis]))\n",
    "\n",
    "                \n",
    "        val_acc, val_class_acc = evaluate(val_X, val_Y,val_labels,W)\n",
    "        ep_end = datetime.datetime.now()\n",
    "        \n",
    "        print \"Epoch {}/{}\".format(t,T)\n",
    "        log_file.write(\"Epoch {}/{}\\n\".format(t,T))\n",
    "        print \"{}s training loss {} validation accuracy {} class accuracy {}\".format(ep_end-ep_start,ep_loss/N,val_acc,val_class_acc)\n",
    "        log_file.write(\"{}s training loss {} validation accuracy {} class accuracy {}\\n\".format(ep_end-ep_start,ep_loss/N,val_acc,val_class_acc))\n",
    "        \n",
    "    log_file.close()\n",
    "    return W"
   ]
  },
  {
   "cell_type": "code",
   "execution_count": null,
   "metadata": {},
   "outputs": [],
   "source": [
    "st = datetime.datetime.now()\n",
    "W = train(tr_theta_x,tr_labels,0.1,20)\n",
    "end = datetime.datetime.now()\n",
    "duration = end - st\n",
    "print \"training time {}\".format(duration)\n",
    "# print \"test accuracy {}\".format(evaluate(test_X,test_Y,test_labels,W))\n",
    "# np.save('new_trained_w_50ep_0.1LR.npy',W)"
   ]
  },
  {
   "cell_type": "code",
   "execution_count": null,
   "metadata": {},
   "outputs": [],
   "source": []
  }
 ],
 "metadata": {
  "kernelspec": {
   "display_name": "Python 2",
   "language": "python",
   "name": "python2"
  },
  "language_info": {
   "codemirror_mode": {
    "name": "ipython",
    "version": 2
   },
   "file_extension": ".py",
   "mimetype": "text/x-python",
   "name": "python",
   "nbconvert_exporter": "python",
   "pygments_lexer": "ipython2",
   "version": "2.7.14"
  }
 },
 "nbformat": 4,
 "nbformat_minor": 2
}
