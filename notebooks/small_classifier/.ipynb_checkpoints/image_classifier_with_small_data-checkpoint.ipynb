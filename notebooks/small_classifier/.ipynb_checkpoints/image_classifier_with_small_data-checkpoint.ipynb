{
 "cells": [
  {
   "cell_type": "markdown",
   "metadata": {},
   "source": [
    "# Image classification with small data"
   ]
  },
  {
   "cell_type": "markdown",
   "metadata": {},
   "source": [
    "1. Download and setup dataset (Kaggle Cats & Dogs) https://www.kaggle.com/c/dogs-vs-cats/data\n",
    "2. Train a small convnet on our small data (acc ~ 0.75)\n",
    "3. Train a MLP using bottleneck features of pretrained model (acc ~ 0.90)\n",
    "4. Finetuning top layers of pretrained model on our small data (acc ~ 0.94)\n"
   ]
  },
  {
   "cell_type": "code",
   "execution_count": null,
   "metadata": {},
   "outputs": [],
   "source": [
    "# imports\n",
    "from keras.preprocessing.image import ImageDataGenerator\n",
    "from keras.models import Sequential\n",
    "from keras.layers import Conv2D, MaxPooling2D\n",
    "from keras.layers import Activation, Dropout, Flatten, Dense\n",
    "from keras import backend as K\n",
    "from keras import applications\n",
    "import numpy as np\n",
    "from keras import Model\n",
    "from keras import optimizers\n",
    "import matplotlib.pyplot as plt"
   ]
  },
  {
   "cell_type": "code",
   "execution_count": null,
   "metadata": {},
   "outputs": [],
   "source": [
    "# define plot & parse functions\n",
    "def parse_log_file(pfile):\n",
    "    f= open(pfile).readlines()\n",
    "    lines = [i.strip() for i in f]\n",
    "    log= {k:[] for k in ['acc','val_acc','loss','val_loss']}\n",
    "    for l in lines:\n",
    "        if 'loss' in l:\n",
    "            for k in log.keys():\n",
    "                log[k].append(float(l.split(k+': ')[1].split(' -')[0]))\n",
    "    return log \n",
    "\n",
    "def plot_loss_acc(pfile):\n",
    "    history = parse_log_file(pfile)\n",
    "    plt.plot(history['loss'])\n",
    "    plt.plot(history['val_loss'])\n",
    "    plt.title('model loss')\n",
    "    plt.ylabel('loss')\n",
    "    plt.xlabel('epoch')\n",
    "    plt.legend(['train', 'val'], loc='upper left')\n",
    "    plt.show()\n",
    "    plt.plot(history['acc'])\n",
    "    plt.plot(history['val_acc'])\n",
    "    plt.title('model acc')\n",
    "    plt.ylabel('acc')\n",
    "    plt.xlabel('epoch')\n",
    "    plt.legend(['train', 'val'], loc='upper left')\n",
    "    plt.show()"
   ]
  },
  {
   "cell_type": "code",
   "execution_count": null,
   "metadata": {},
   "outputs": [],
   "source": [
    "img_width, img_height = 150, 150\n",
    "input_shape = (img_width, img_height, 3)"
   ]
  },
  {
   "cell_type": "markdown",
   "metadata": {},
   "source": [
    "## Train a small convnet on our small data"
   ]
  },
  {
   "cell_type": "code",
   "execution_count": null,
   "metadata": {},
   "outputs": [],
   "source": [
    "# define a sequential model (small conv net): \n",
    "# 3 conv blocks (Conv2D, Activation('relu'), MaxPooling2D) + 2 dense layers\n",
    "# Conv_1: filters 32, kernel size(3,3)\n",
    "# Conv_2: filters 32, kernel size(3,3)\n",
    "# Conv_3: filters 64, kernel size(3,3)\n",
    "# Flatten\n",
    "# Dense_1: 64\n",
    "# Activation('relu')\n",
    "# Dropout(0.5)\n",
    "# Dense_2:  ? \n",
    "# Activation('sigmoid')\n",
    "\n",
    "# print model summary\n",
    "\n",
    "# # add your implementation"
   ]
  },
  {
   "cell_type": "code",
   "execution_count": null,
   "metadata": {},
   "outputs": [],
   "source": [
    "# compile model \n",
    "# use binary crossentropy loss \n",
    "# and rmsprop optimizer\n",
    "\n",
    "# # add your implementation"
   ]
  },
  {
   "cell_type": "code",
   "execution_count": null,
   "metadata": {},
   "outputs": [],
   "source": [
    "train_data_dir = 'data/train'\n",
    "validation_data_dir = 'data/validation'\n",
    "nb_train_samples = 2000\n",
    "nb_validation_samples = 800\n",
    "epochs = 50\n",
    "batch_size = 16"
   ]
  },
  {
   "cell_type": "code",
   "execution_count": null,
   "metadata": {},
   "outputs": [],
   "source": [
    "# define a keras ImageDataGenerator for training data with appropriate augmentation \n",
    "# use rescale=1. / 255 to normalise pixles values\n",
    "\n",
    "# define a keras ImageDataGenerator for test data  (no augmentation only rescaling)\n",
    "\n",
    "# # add your implementation"
   ]
  },
  {
   "cell_type": "code",
   "execution_count": 3,
   "metadata": {},
   "outputs": [],
   "source": [
    "# define training and validation iterators \n",
    "# use ImageDataGenerator.flow_from_directory to training and validation dirs accordingly \n",
    "\n",
    "# # add your implementation"
   ]
  },
  {
   "cell_type": "code",
   "execution_count": null,
   "metadata": {},
   "outputs": [],
   "source": [
    "# train and validate the model using fit_generator\n",
    "\n",
    "# # add your implementation"
   ]
  },
  {
   "cell_type": "markdown",
   "metadata": {},
   "source": [
    "## Train a MLP using bottleneck features"
   ]
  },
  {
   "cell_type": "code",
   "execution_count": null,
   "metadata": {},
   "outputs": [],
   "source": [
    "# define VGG16 network using keras applications.VGG16  \n",
    "# set weights = 'imagenet'\n",
    "# set include_top=False : don't include the fully-connected layer at the top of the network \n",
    "# set input_shape: image shape\n",
    "\n",
    "# # add your implementation\n",
    "\n",
    "# define a keras ImageDataGenerator for data (no augmentation only rescaling)\n",
    "# define training and validation iterators same as before (set shuffle=False)\n",
    "\n",
    "# # add your implementation\n",
    "\n",
    "# extract image features for training and validation separately using predict_generator\n",
    "\n",
    "# # add your implementation\n",
    "\n",
    "# save training and validation features\n",
    "\n",
    "# # add your implementation"
   ]
  },
  {
   "cell_type": "code",
   "execution_count": 4,
   "metadata": {},
   "outputs": [],
   "source": [
    "# create training and validation labels array (features are in order because we used shuffle=false) \n",
    "\n",
    "# # add your implementation\n",
    "\n",
    "# define model of two dense layers 256 and ? \n",
    "# model should start with Flatten layer (to flatten extracted image features to a vector)\n",
    "# don’t forget activations and dropout(0.5)\n",
    "# compile with binary_crossentropy loss and rmsprop optimizer\n",
    "\n",
    "# # add your implementation\n",
    "\n",
    "# Train MLP using fit function\n",
    "\n",
    "# # add your implementation\n",
    "\n",
    "# save weights to use them in fine-tuning later on\n",
    "\n",
    "# # add your implementation"
   ]
  },
  {
   "cell_type": "markdown",
   "metadata": {},
   "source": [
    "## Finetuning top layers of pretrained model on our small data"
   ]
  },
  {
   "cell_type": "code",
   "execution_count": null,
   "metadata": {},
   "outputs": [],
   "source": [
    "# define new model:  VGG16 as base and MLP as top \n",
    "# input = base_model.input, output=top_model(base_model.output)\n",
    "\n",
    "# # add your implementation\n",
    "\n",
    "# freeze the first 15 layers (up to the last conv block)\n",
    "# set trainable=false (weights will not be updated)\n",
    "\n",
    "# # add your implementation\n",
    "\n",
    "# compile with binary_crossentropy loss and SGD with low learing rate optimizer\n",
    "\n",
    "# # add your implementation"
   ]
  },
  {
   "cell_type": "code",
   "execution_count": null,
   "metadata": {},
   "outputs": [],
   "source": [
    "# fine-tune the model using fit_generator and train and validation iterators"
   ]
  }
 ],
 "metadata": {
  "kernelspec": {
   "display_name": "Python 2",
   "language": "python",
   "name": "python2"
  },
  "language_info": {
   "codemirror_mode": {
    "name": "ipython",
    "version": 2
   },
   "file_extension": ".py",
   "mimetype": "text/x-python",
   "name": "python",
   "nbconvert_exporter": "python",
   "pygments_lexer": "ipython2",
   "version": "2.7.14"
  }
 },
 "nbformat": 4,
 "nbformat_minor": 2
}
