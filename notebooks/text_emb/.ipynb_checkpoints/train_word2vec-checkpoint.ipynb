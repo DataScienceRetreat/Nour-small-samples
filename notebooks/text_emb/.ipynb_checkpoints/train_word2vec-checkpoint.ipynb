{
 "cells": [
  {
   "cell_type": "markdown",
   "metadata": {},
   "source": [
    "# Word2vec model using Gensim"
   ]
  },
  {
   "cell_type": "markdown",
   "metadata": {},
   "source": [
    "1. pip install gensim, tsne, bokeh\n",
    "3. download sample text corpus http://wortschatz.uni-leipzig.de/en/download/\n",
    "2. Text preprocessing iterator\n",
    "3. Train word2vec model\n",
    "4. Sanity check\n",
    "5. tsne \n",
    "5. plot with bokeh"
   ]
  },
  {
   "cell_type": "code",
   "execution_count": 2,
   "metadata": {
    "collapsed": true
   },
   "outputs": [],
   "source": [
    "import logging\n",
    "import os.path\n",
    "import sys\n",
    "from gensim.models import Word2Vec"
   ]
  },
  {
   "cell_type": "code",
   "execution_count": 3,
   "metadata": {
    "collapsed": true
   },
   "outputs": [],
   "source": [
    "class sentences_iter(object):\n",
    "    def __init__(self, dirname):\n",
    "        self.dirname = dirname\n",
    " \n",
    "    def __iter__(self):\n",
    "        for fname in os.listdir(self.dirname):\n",
    "            for line in open(os.path.join(self.dirname, fname)):\n",
    "                yield line.split()"
   ]
  },
  {
   "cell_type": "code",
   "execution_count": 4,
   "metadata": {
    "collapsed": true
   },
   "outputs": [],
   "source": [
    "sentences = sentences_iter('eng_news_2005_100K/') \n",
    "model = Word2Vec(sentences, size=int(100), window=20, min_count=5,hs=1)"
   ]
  },
  {
   "cell_type": "code",
   "execution_count": 5,
   "metadata": {},
   "outputs": [
    {
     "name": "stderr",
     "output_type": "stream",
     "text": [
      "/Users/nour/anaconda2/lib/python2.7/site-packages/ipykernel_launcher.py:1: DeprecationWarning: Call to deprecated `most_similar` (Method will be removed in 4.0.0, use self.wv.most_similar() instead).\n",
      "  \"\"\"Entry point for launching an IPython kernel.\n"
     ]
    },
    {
     "data": {
      "text/plain": [
       "[('greatest', 0.6399431228637695),\n",
       " ('world,', 0.6276425123214722),\n",
       " ('nation', 0.6247788071632385),\n",
       " ('Europe', 0.596915602684021),\n",
       " ('country', 0.5723059773445129),\n",
       " ('history', 0.5503307580947876),\n",
       " ('Europe.', 0.5425519943237305),\n",
       " ('success', 0.5399937033653259),\n",
       " ('best', 0.5368356108665466),\n",
       " ('century', 0.5160427093505859)]"
      ]
     },
     "execution_count": 5,
     "metadata": {},
     "output_type": "execute_result"
    }
   ],
   "source": [
    "model.most_similar('world')"
   ]
  },
  {
   "cell_type": "code",
   "execution_count": 6,
   "metadata": {},
   "outputs": [
    {
     "data": {
      "text/plain": [
       "(27953, 100)"
      ]
     },
     "execution_count": 6,
     "metadata": {},
     "output_type": "execute_result"
    }
   ],
   "source": [
    "model.wv.syn0.shape"
   ]
  },
  {
   "cell_type": "code",
   "execution_count": 7,
   "metadata": {
    "collapsed": true
   },
   "outputs": [],
   "source": [
    "import numpy as np\n",
    "import datetime\n",
    "from tsne import bh_sne\n",
    "from bokeh.plotting import figure, output_file, show, ColumnDataSource\n",
    "from bokeh.models import HoverTool, BoxSelectTool"
   ]
  },
  {
   "cell_type": "code",
   "execution_count": 8,
   "metadata": {
    "collapsed": true
   },
   "outputs": [],
   "source": [
    "vectors = np.array(model.wv.syn0,dtype='float')"
   ]
  },
  {
   "cell_type": "code",
   "execution_count": 9,
   "metadata": {},
   "outputs": [
    {
     "name": "stdout",
     "output_type": "stream",
     "text": [
      "tsne in 0:05:17.579270\n"
     ]
    }
   ],
   "source": [
    "# perform t-SNE embedding on subset of the large vocabulary\n",
    "start = datetime.datetime.now()\n",
    "vis_data = bh_sne(vectors)\n",
    "end = datetime.datetime.now()\n",
    "print \"tsne in {}\".format(end-start)\n",
    "# take like 5 mins"
   ]
  },
  {
   "cell_type": "code",
   "execution_count": 10,
   "metadata": {
    "collapsed": true
   },
   "outputs": [],
   "source": [
    "words = model.wv.index2word"
   ]
  },
  {
   "cell_type": "code",
   "execution_count": 11,
   "metadata": {},
   "outputs": [],
   "source": [
    "# plot the result\n",
    "vis_x = vis_data[:, 0]\n",
    "vis_y = vis_data[:, 1]\n",
    "\n",
    "output_file(\"word2vec_tsne.html\")\n",
    "source = ColumnDataSource(data=dict(\n",
    "    x= vis_data[:, 0],\n",
    "    y= vis_data[:, 1],\n",
    "    desc= words ,\n",
    "))\n",
    "\n",
    "hover = HoverTool(tooltips=[\n",
    "    (\"word\", \"@desc\"),\n",
    "])\n",
    "\n",
    "p = figure(plot_width=500, plot_height=500, tools=[hover,\"wheel_zoom\"],\n",
    "           title=\"Glove Tsne\")\n",
    "\n",
    "p.circle('x', 'y', size=20, source=source)\n",
    "show(p)"
   ]
  },
  {
   "cell_type": "code",
   "execution_count": null,
   "metadata": {
    "collapsed": true
   },
   "outputs": [],
   "source": []
  }
 ],
 "metadata": {
  "kernelspec": {
   "display_name": "Python 2",
   "language": "python",
   "name": "python2"
  },
  "language_info": {
   "codemirror_mode": {
    "name": "ipython",
    "version": 2
   },
   "file_extension": ".py",
   "mimetype": "text/x-python",
   "name": "python",
   "nbconvert_exporter": "python",
   "pygments_lexer": "ipython2",
   "version": "2.7.14"
  }
 },
 "nbformat": 4,
 "nbformat_minor": 2
}
