{
 "cells": [
  {
   "cell_type": "markdown",
   "metadata": {},
   "source": [
    "# TSNE of pretrained Glove model on wiki"
   ]
  },
  {
   "cell_type": "markdown",
   "metadata": {},
   "source": [
    "1. pip install gensim, tsne, bokehe\n",
    "3. Download pretrained glove model from https://nlp.stanford.edu/projects/glove/\n",
    "4. load model in gensim (faster loading)\n",
    "4. tsne \n",
    "5. plot with bokeh"
   ]
  },
  {
   "cell_type": "code",
   "execution_count": 1,
   "metadata": {
    "collapsed": true
   },
   "outputs": [],
   "source": [
    "# imports\n",
    "from tsne import bh_sne\n",
    "from bokeh.plotting import figure, output_file, show, ColumnDataSource\n",
    "from bokeh.models import HoverTool, BoxSelectTool\n",
    "import numpy as np\n",
    "from gensim.models import KeyedVectors\n",
    "import datetime"
   ]
  },
  {
   "cell_type": "code",
   "execution_count": 11,
   "metadata": {},
   "outputs": [
    {
     "name": "stdout",
     "output_type": "stream",
     "text": [
      "0:03:35.795689\n"
     ]
    }
   ],
   "source": [
    "# to load a pre-trained model from .txt, make sure you add 400000 300 as first line\n",
    "# you can also set a limit of the vocabulary in case you don't need all\n",
    "st = datetime.datetime.now()\n",
    "word_vectors = KeyedVectors.load_word2vec_format('glove/glove.6B.300d.txt',binary=False)\n",
    "print datetime.datetime.now()-st"
   ]
  },
  {
   "cell_type": "code",
   "execution_count": 5,
   "metadata": {
    "collapsed": true
   },
   "outputs": [],
   "source": [
    "# # quicker loading\n",
    "# force the unit-normalization, destructively in-place \n",
    "word_vectors.init_sims(replace=True) \n",
    "# save in binary format\n",
    "word_vectors.save('glove/glove.6B.300d-gensim.bin')"
   ]
  },
  {
   "cell_type": "code",
   "execution_count": 16,
   "metadata": {},
   "outputs": [
    {
     "name": "stdout",
     "output_type": "stream",
     "text": [
      "0:00:04.069330\n"
     ]
    }
   ],
   "source": [
    "# # load from binary\n",
    "st = datetime.datetime.now()\n",
    "glove_model = KeyedVectors.load('glove/glove.6B.300d-gensim.bin', mmap='r') # memory-mapped from disk\n",
    "glove_model.syn0norm = glove_model.syn0  # prevent recalc of normed vectors\n",
    "print datetime.datetime.now()-st\n",
    "# # for more details check this post https://stackoverflow.com/questions/42986405/how-to-speed-up-gensim-word2vec-model-load-time"
   ]
  },
  {
   "cell_type": "code",
   "execution_count": 14,
   "metadata": {},
   "outputs": [
    {
     "data": {
      "text/plain": [
       "[(u'elizabeth', 0.6771447062492371),\n",
       " (u'princess', 0.6356764435768127),\n",
       " (u'king', 0.6336469650268555),\n",
       " (u'monarch', 0.5814188122749329),\n",
       " (u'royal', 0.543052613735199),\n",
       " (u'majesty', 0.5350356698036194),\n",
       " (u'victoria', 0.5239557027816772),\n",
       " (u'throne', 0.5097099542617798),\n",
       " (u'lady', 0.5045416951179504),\n",
       " (u'crown', 0.49980059266090393)]"
      ]
     },
     "execution_count": 14,
     "metadata": {},
     "output_type": "execute_result"
    }
   ],
   "source": [
    "# sanity check\n",
    "glove_model.most_similar('queen')"
   ]
  },
  {
   "cell_type": "code",
   "execution_count": 9,
   "metadata": {},
   "outputs": [
    {
     "data": {
      "text/plain": [
       "[(u'javascript', 0.6667327880859375),\n",
       " (u'scripting', 0.598360002040863),\n",
       " (u'perl', 0.5901949405670166),\n",
       " (u'mysql', 0.5828665494918823),\n",
       " (u'server-side', 0.5826087594032288),\n",
       " (u'c++', 0.5619826316833496),\n",
       " (u'runtime', 0.5475314855575562),\n",
       " (u'open-source', 0.529973030090332),\n",
       " (u'sql', 0.521233320236206),\n",
       " (u'backend', 0.5180888772010803)]"
      ]
     },
     "execution_count": 9,
     "metadata": {},
     "output_type": "execute_result"
    }
   ],
   "source": [
    "glove_model.most_similar('php')"
   ]
  },
  {
   "cell_type": "code",
   "execution_count": 10,
   "metadata": {},
   "outputs": [
    {
     "data": {
      "text/plain": [
       "(400000, 300)"
      ]
     },
     "execution_count": 10,
     "metadata": {},
     "output_type": "execute_result"
    }
   ],
   "source": [
    "vectors = np.array(glove_model.syn0norm,dtype='float')\n",
    "vectors.shape"
   ]
  },
  {
   "cell_type": "code",
   "execution_count": 15,
   "metadata": {
    "collapsed": true
   },
   "outputs": [],
   "source": [
    "# perform t-SNE embedding on subset of the large vocabulary\n",
    "start, end = 1500, 2000\n",
    "vis_data = bh_sne(vectors[start:end])\n",
    "words = glove_model.index2word[start:end]"
   ]
  },
  {
   "cell_type": "code",
   "execution_count": 16,
   "metadata": {
    "collapsed": true
   },
   "outputs": [],
   "source": [
    "# plot the result\n",
    "vis_x = vis_data[:, 0]\n",
    "vis_y = vis_data[:, 1]\n",
    "\n",
    "output_file(\"glove_tsne.html\")\n",
    "source = ColumnDataSource(data=dict(\n",
    "    x= vis_data[:, 0],\n",
    "    y= vis_data[:, 1],\n",
    "    desc= words ,\n",
    "))\n",
    "\n",
    "hover = HoverTool(tooltips=[\n",
    "    (\"word\", \"@desc\"),\n",
    "])\n",
    "\n",
    "p = figure(plot_width=800, plot_height=800, tools=[hover,\"wheel_zoom\"],\n",
    "           title=\"Glove Tsne\")\n",
    "\n",
    "p.circle('x', 'y', size=20, source=source)\n",
    "show(p)"
   ]
  },
  {
   "cell_type": "code",
   "execution_count": null,
   "metadata": {
    "collapsed": true
   },
   "outputs": [],
   "source": []
  }
 ],
 "metadata": {
  "kernelspec": {
   "display_name": "Python 2",
   "language": "python",
   "name": "python2"
  },
  "language_info": {
   "codemirror_mode": {
    "name": "ipython",
    "version": 2
   },
   "file_extension": ".py",
   "mimetype": "text/x-python",
   "name": "python",
   "nbconvert_exporter": "python",
   "pygments_lexer": "ipython2",
   "version": "2.7.14"
  }
 },
 "nbformat": 4,
 "nbformat_minor": 2
}
