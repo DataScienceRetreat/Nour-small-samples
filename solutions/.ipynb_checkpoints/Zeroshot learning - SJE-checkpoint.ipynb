{
 "cells": [
  {
   "cell_type": "code",
   "execution_count": 2,
   "metadata": {},
   "outputs": [],
   "source": [
    "import numpy as np\n",
    "import datetime\n",
    "import random\n",
    "from collections import Counter\n",
    "import matplotlib.pyplot as plt"
   ]
  },
  {
   "cell_type": "code",
   "execution_count": 2,
   "metadata": {
    "collapsed": true
   },
   "outputs": [],
   "source": [
    "def l2_norm(x):\n",
    "    return x / (np.linalg.norm(x)+ 10e-6)"
   ]
  },
  {
   "cell_type": "code",
   "execution_count": 3,
   "metadata": {
    "collapsed": true
   },
   "outputs": [],
   "source": [
    "# load prepared data \n",
    "data_dict = np.load('/Users/nkaressli/Documents/DSR/DSR/notebooks/ZSL/Data/data_dict.npz',encoding = 'latin1')['data'].item()\n",
    "# \n",
    "tr_theta_x = data_dict['tr_theta_x'] # training image features extracted from deep CNN\n",
    "tr_labels = data_dict['tr_labels'] # training image labels as indices matching class embeddings and names\n",
    "val_theta_x = data_dict['val_theta_x']# validation image features extracted from deep CNN\n",
    "val_labels = data_dict['val_labels'] # validation image labels as indices matching class embeddings and names\n",
    "test_theta_x = data_dict['test_theta_x'] # test image features extracted from deep CNN\n",
    "test_labels = data_dict['test_labels'] # test image labels as indices matching class embeddings and names\n",
    "\n",
    "class_embeddings = data_dict['phi_y'] # class attributes vectors provided by the original dataset AWA\n",
    "class_names = data_dict['class_name'] # class names in the same order as embeddings "
   ]
  },
  {
   "cell_type": "code",
   "execution_count": 4,
   "metadata": {
    "collapsed": true
   },
   "outputs": [],
   "source": [
    "theta_x_dim, phi_y_dim = len(tr_theta_x[0]), len(class_embeddings[0])"
   ]
  },
  {
   "cell_type": "code",
   "execution_count": 5,
   "metadata": {},
   "outputs": [
    {
     "name": "stdout",
     "output_type": "stream",
     "text": [
      "training classes:\n",
      "antelope , grizzly+bear , killer+whale , persian+cat , german+shepherd , siamese+cat , skunk , tiger , hippopotamus , spider+monkey , humpback+whale , elephant , fox , squirrel , rhinoceros , wolf , chihuahua , weasel , otter , buffalo , zebra , pig , lion , mouse , polar+bear , collie , cow , \n",
      "validation classes:\n",
      "beaver , dalmatian , giant+panda , deer , mole , leopard , moose , gorilla , ox , chimpanzee , hamster , raccoon , rabbit , \n",
      "test classes:\n",
      "rat , horse , dolphin , blue+whale , walrus , bobcat , sheep , seal , bat , giraffe ,\n"
     ]
    }
   ],
   "source": [
    "# class split \n",
    "print \"training classes:\"\n",
    "for idx in set(tr_labels):\n",
    "    print class_names[idx], ',',\n",
    "print \"\\nvalidation classes:\"\n",
    "for idx in set(val_labels):\n",
    "    print class_names[idx], ',',\n",
    "print \"\\ntest classes:\"\n",
    "for idx in set(test_labels):\n",
    "    print class_names[idx], ',',"
   ]
  },
  {
   "cell_type": "code",
   "execution_count": 6,
   "metadata": {
    "collapsed": true
   },
   "outputs": [],
   "source": [
    "def train(X,Y,tr_class_indices,val_X,val_Y,val_class_indices,LR,Epochs,W=None):\n",
    "    \n",
    "    # log file\n",
    "    log_file = open('train_log.txt','a')\n",
    "    \n",
    "    # total number of training samples\n",
    "    N = len(X)\n",
    "    \n",
    "    # initialize the joint embedding matrix W: is x_dim x y_dim where x_dim is input embedding dimension and yEmb_dim is the output embedding dimension\n",
    "    # the initialization value is equal to 1 \n",
    "    if W is None:\n",
    "        W = np.ones((theta_x_dim, phi_y_dim))\n",
    "    \n",
    "    # SGD train the weights with T iteration using LR\n",
    "    Indices= list(range(0,N))\n",
    "    for e in range(0,Epochs):\n",
    "        \n",
    "        ep_start = datetime.datetime.now()\n",
    "        ep_loss = 0\n",
    "        random.shuffle(Indices) # shuffle training data for each epoch\n",
    "        \n",
    "        for index in range(0,N):\n",
    "            n = Indices[index] # pick a random sample n\n",
    "            max_loss = -1 # max loss\n",
    "            max_j = -1 # max_j keeps the index of the max rank\n",
    "\n",
    "            inputP = l2_norm(np.dot(np.transpose(X[n]),W)) # project input on joint embedding space\n",
    "            comp_true = np.dot(inputP,class_embeddings[Y[n]]) \n",
    "            \n",
    "            for j in tr_class_indices: # iterate over tr classes to find the one with the maximum rank\n",
    "                delta = 0 if Y[n] == j else 1 # 0-1 loss\n",
    "                comp = np.dot(inputP,class_embeddings[j]) # compatability between input projection and class_embeddings[j]\n",
    "                loss = delta + comp - comp_true\n",
    "                if loss > max_loss:\n",
    "                    max_loss = loss\n",
    "                    max_j = j\n",
    "            \n",
    "            ep_loss += max_loss\n",
    "            \n",
    "            # update weights if violation\n",
    "            if not (max_j == Y[n]):\n",
    "                tranX = np.array(X[n])[np.newaxis]\n",
    "                grad = (np.dot(tranX.T ,np.array(class_embeddings[max_j])[np.newaxis] - np.array(class_embeddings[Y[n]])[np.newaxis]))\n",
    "                W = W - LR * grad\n",
    "\n",
    "                \n",
    "        val_acc, val_class_acc = evaluate(val_theta_x, val_labels,set(val_labels),W)\n",
    "        ep_end = datetime.datetime.now()\n",
    "        \n",
    "        print \"Epoch {}/{}\".format(e,Epochs)\n",
    "        log_file.write(\"Epoch {}/{}\\n\".format(e,Epochs))\n",
    "        print \"{}s training loss {} validation accuracy {} class accuracy {}\".format(ep_end-ep_start,ep_loss/N,val_acc,val_class_acc)\n",
    "        log_file.write(\"{}s training loss {} validation accuracy {} class accuracy {}\\n\".format(ep_end-ep_start,ep_loss/N,val_acc,val_class_acc))\n",
    "        \n",
    "    log_file.close()\n",
    "    return W"
   ]
  },
  {
   "cell_type": "code",
   "execution_count": 7,
   "metadata": {
    "collapsed": true
   },
   "outputs": [],
   "source": [
    "def predict(x,test_class_indices,W):\n",
    "    max_comp = -1\n",
    "    max_i = -1\n",
    "    inputP = l2_norm(np.dot(np.transpose(x),W)) # project input on joint embedding space\n",
    "        \n",
    "    for i in test_class_indices: \n",
    "        comp = np.dot(inputP,class_embeddings[i])\n",
    "        if comp > max_comp:\n",
    "            max_comp = comp\n",
    "            max_i = i\n",
    "    return max_i"
   ]
  },
  {
   "cell_type": "code",
   "execution_count": 8,
   "metadata": {
    "collapsed": true
   },
   "outputs": [],
   "source": [
    "def evaluate(X,Y,test_class_indices,W):\n",
    "    correct_pred = 0\n",
    "    class_correct_pred = {t:0 for t in test_class_indices}\n",
    "    for n in range(len(X)):\n",
    "        pred_label = predict(X[n],test_class_indices,W)\n",
    "        if pred_label == Y[n]:\n",
    "            correct_pred += 1\n",
    "            class_correct_pred[Y[n]] +=1\n",
    "    class_counts = Counter(Y)\n",
    "    acc = float(correct_pred) / len(X)\n",
    "    class_acc = np.mean([float(class_correct_pred[k])/class_counts[k] for k in class_counts.keys() ]) \n",
    "    return acc, class_acc"
   ]
  },
  {
   "cell_type": "code",
   "execution_count": 13,
   "metadata": {},
   "outputs": [
    {
     "name": "stdout",
     "output_type": "stream",
     "text": [
      "Epoch 0/10\n",
      "0:00:10.926676s training loss 1.00721186637 validation accuracy 0.153193341312 class accuracy 0.133491552277\n",
      "Epoch 1/10\n",
      "0:00:11.632171s training loss 0.98400243943 validation accuracy 0.234468501795 class accuracy 0.209875904908\n",
      "Epoch 2/10\n",
      "0:00:11.552340s training loss 0.971255483042 validation accuracy 0.30029376564 class accuracy 0.27771847284\n",
      "Epoch 3/10\n",
      "0:00:11.483615s training loss 0.960447678867 validation accuracy 0.345773038842 class accuracy 0.350396543785\n",
      "Epoch 4/10\n",
      "0:00:11.113838s training loss 0.950815762831 validation accuracy 0.407572625394 class accuracy 0.423215626746\n",
      "Epoch 5/10\n",
      "0:00:11.669668s training loss 0.942021535947 validation accuracy 0.45588075291 class accuracy 0.469063730372\n",
      "Epoch 6/10\n",
      "0:00:11.421271s training loss 0.93394679083 validation accuracy 0.486889348275 class accuracy 0.501807520283\n",
      "Epoch 7/10\n",
      "0:00:10.751960s training loss 0.926448808278 validation accuracy 0.525514089871 class accuracy 0.533941677883\n",
      "Epoch 8/10\n",
      "0:00:11.127472s training loss 0.919547481007 validation accuracy 0.551844195409 class accuracy 0.561946715966\n",
      "Epoch 9/10\n",
      "0:00:11.096330s training loss 0.913127023845 validation accuracy 0.571102165162 class accuracy 0.576674902623\n",
      "training time 0:01:52.780926\n",
      "test accuracy 0.347276633388, test class accuracy 0.504094727221\n"
     ]
    }
   ],
   "source": [
    "epochs = 10\n",
    "learning_rate = 0.1\n",
    "st = datetime.datetime.now()\n",
    "W = train(tr_theta_x,tr_labels,set(tr_labels),val_theta_x,val_labels,set(val_labels),learning_rate,epochs)\n",
    "end = datetime.datetime.now()\n",
    "duration = end - st\n",
    "print \"training time {}\".format(duration)\n",
    "acc, class_acc = evaluate(test_theta_x,test_labels,set(test_labels),W)\n",
    "print \"test accuracy {}, test class accuracy {}\".format(acc, class_acc)\n",
    "np.save('trained_sje_w_{}ep_{}LR.npy'.format(epochs,learning_rate),W)"
   ]
  },
  {
   "cell_type": "code",
   "execution_count": null,
   "metadata": {},
   "outputs": [],
   "source": []
  }
 ],
 "metadata": {
  "kernelspec": {
   "display_name": "Python 3",
   "language": "python",
   "name": "python3"
  },
  "language_info": {
   "codemirror_mode": {
    "name": "ipython",
    "version": 2
   },
   "file_extension": ".py",
   "mimetype": "text/x-python",
   "name": "python",
   "nbconvert_exporter": "python",
   "pygments_lexer": "ipython2",
   "version": "2.7.14"
  }
 },
 "nbformat": 4,
 "nbformat_minor": 2
}
